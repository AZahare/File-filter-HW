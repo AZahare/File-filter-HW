{
 "cells": [
  {
   "cell_type": "markdown",
   "metadata": {},
   "source": [
    "# File Cleaner"
   ]
  },
  {
   "cell_type": "markdown",
   "metadata": {},
   "source": [
    "# 1"
   ]
  },
  {
   "cell_type": "code",
   "execution_count": null,
   "metadata": {},
   "outputs": [],
   "source": [
    "# 50% of the grade\n",
    "#def clean_file(src_file,dest_file,good_text=\"\",bad_text=\"\"):\n",
    "    # open src_file\n",
    "    # keep only lines with good text BUT not with bad_text\n",
    "    # save onto dest_file overwritting the existing file there\n",
    "#    print(f\"Cleaned file {src_file} and saved onto {dest_file}\")"
   ]
  },
  {
   "cell_type": "code",
   "execution_count": 1,
   "metadata": {},
   "outputs": [],
   "source": [
    "import os"
   ]
  },
  {
   "cell_type": "code",
   "execution_count": 2,
   "metadata": {},
   "outputs": [
    {
     "data": {
      "text/plain": [
       "'C:\\\\Users\\\\azaha\\\\RTU-Python'"
      ]
     },
     "execution_count": 2,
     "metadata": {},
     "output_type": "execute_result"
    }
   ],
   "source": [
    "os.getcwd()"
   ]
  },
  {
   "cell_type": "code",
   "execution_count": 3,
   "metadata": {},
   "outputs": [],
   "source": [
    "def clean_file(src_file=\"\",dest_file=\"\",good_text=\"\",bad_text=\"\"):\n",
    "    lines_to_keep = []\n",
    "    src_file = '../RTU-Python/Peter-Pan.txt'\n",
    "    good_text = [\"Peter\"]\n",
    "    bad_text = [\"Hook\"]\n",
    "    with open(src_file, encoding=\"utf-8\") as f:\n",
    "        for line in f:\n",
    "            if any(word in line for word in good_text) and not any(word in line for word in bad_text):\n",
    "                lines_to_keep.append(line)\n",
    "    dest_file = os.path.join(os.getcwd(), 'just_peter.txt')\n",
    "    with open(\"just_peter.txt\", mode=\"w\", encoding=\"utf-8\") as f:\n",
    "        f.writelines(lines_to_keep)\n",
    "    print(f\"Cleaned file {src_file} and saved onto {dest_file}\")"
   ]
  },
  {
   "cell_type": "code",
   "execution_count": 4,
   "metadata": {
    "scrolled": true
   },
   "outputs": [
    {
     "name": "stdout",
     "output_type": "stream",
     "text": [
      "Cleaned file ../RTU-Python/Peter-Pan.txt and saved onto C:\\Users\\azaha\\RTU-Python\\just_peter.txt\n"
     ]
    }
   ],
   "source": [
    "clean_file()"
   ]
  },
  {
   "cell_type": "markdown",
   "metadata": {},
   "source": [
    "# 2"
   ]
  },
  {
   "cell_type": "code",
   "execution_count": 5,
   "metadata": {},
   "outputs": [],
   "source": [
    "# 80% of the grade\n",
    "#def clean_file_many(src_file,dest_file,good_texts=(),bad_texts=()):\n",
    "    # open src_file\n",
    "    # keep only lines with any good text BUT NOT with ANY bad text\n",
    "    # save onto dest_file overwritting the existing file there\n",
    "#    print(f\"Cleaned file {src_file} and saved onto {dest_file}\")"
   ]
  },
  {
   "cell_type": "code",
   "execution_count": 6,
   "metadata": {},
   "outputs": [],
   "source": [
    "def clean_file_many(src_file=\"\",dest_file=\"\",good_texts=\"\",bad_texts=\"\"):\n",
    "    lines_to_keep = []\n",
    "    src_file = '../RTU-Python/Peter-Pan.txt'\n",
    "    good_texts = [\"Peter\", \"Wendy\", \"Neverland\"]\n",
    "    bad_texts = [\"Hook\", \"pirate\", \"skull\"]\n",
    "    with open(src_file, encoding=\"utf-8\") as f:\n",
    "        for line in f:\n",
    "            if any(word in line for word in good_texts) and not any(word in line for word in bad_texts):\n",
    "                lines_to_keep.append(line)\n",
    "    dest_file = os.path.join(os.getcwd(), 'just_good.txt')\n",
    "    with open(\"just_good.txt\", mode=\"w\", encoding=\"utf-8\") as f:\n",
    "        f.writelines(lines_to_keep)\n",
    "    print(f\"Cleaned file {src_file} and saved onto {dest_file}\")"
   ]
  },
  {
   "cell_type": "code",
   "execution_count": 7,
   "metadata": {
    "scrolled": true
   },
   "outputs": [
    {
     "name": "stdout",
     "output_type": "stream",
     "text": [
      "Cleaned file ../RTU-Python/Peter-Pan.txt and saved onto C:\\Users\\azaha\\RTU-Python\\just_good.txt\n"
     ]
    }
   ],
   "source": [
    "clean_file_many()"
   ]
  }
 ],
 "metadata": {
  "kernelspec": {
   "display_name": "Python 3",
   "language": "python",
   "name": "python3"
  },
  "language_info": {
   "codemirror_mode": {
    "name": "ipython",
    "version": 3
   },
   "file_extension": ".py",
   "mimetype": "text/x-python",
   "name": "python",
   "nbconvert_exporter": "python",
   "pygments_lexer": "ipython3",
   "version": "3.8.5"
  }
 },
 "nbformat": 4,
 "nbformat_minor": 4
}
